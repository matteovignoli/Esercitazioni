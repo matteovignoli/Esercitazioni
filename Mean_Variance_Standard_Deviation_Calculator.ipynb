{
  "nbformat": 4,
  "nbformat_minor": 0,
  "metadata": {
    "colab": {
      "provenance": [],
      "authorship_tag": "ABX9TyPvLIEVR2Y97Zb53R/SV4lP",
      "include_colab_link": true
    },
    "kernelspec": {
      "name": "python3",
      "display_name": "Python 3"
    },
    "language_info": {
      "name": "python"
    }
  },
  "cells": [
    {
      "cell_type": "markdown",
      "metadata": {
        "id": "view-in-github",
        "colab_type": "text"
      },
      "source": [
        "<a href=\"https://colab.research.google.com/github/matteovignoli/Esercitazioni/blob/main/Mean_Variance_Standard_Deviation_Calculator.ipynb\" target=\"_parent\"><img src=\"https://colab.research.google.com/assets/colab-badge.svg\" alt=\"Open In Colab\"/></a>"
      ]
    },
    {
      "cell_type": "markdown",
      "source": [
        "# Introduction\n",
        "\n",
        "In this notebook you will find a project provided by freeCodeCamp which requires us to gain some practice with the NumPy library and learn the basics"
      ],
      "metadata": {
        "id": "P5Y7q93dtefm"
      }
    },
    {
      "cell_type": "markdown",
      "source": [
        "# Instructions\n",
        "Create a function named calculate() in mean_var_std.py that uses Numpy to output the mean, variance, standard deviation, max, min, and sum of the rows, columns, and elements in a 3 x 3 matrix.\n",
        "\n",
        "The input of the function should be a list containing 9 digits. The function should convert the list into a 3 x 3 Numpy array, and then return a dictionary containing the mean, variance, standard deviation, max, min, and sum along both axes and for the flattened matrix.\n",
        "\n",
        "If a list containing less than 9 elements is passed into the function, it should raise a ValueError exception with the message: \"List must contain nine numbers.\" The values in the returned dictionary should be lists and not Numpy arrays."
      ],
      "metadata": {
        "id": "xVSKQnVLt-le"
      }
    },
    {
      "cell_type": "code",
      "source": [
        "import numpy as np"
      ],
      "metadata": {
        "id": "-V4kOOvXtwj6"
      },
      "execution_count": 1,
      "outputs": []
    },
    {
      "cell_type": "code",
      "source": [
        "def calculate(list):\n",
        "  if len(list) < 9:\n",
        "    raise ValueError(\"List must contain nine numbers.\")\n",
        "\n",
        "  arr_matrix = np.array(list).reshape(3,3)\n",
        "\n",
        "  lista_calc = ['mean', 'variance', 'standard deviation', 'max', 'min', 'sum']\n",
        "  calculations = {}\n",
        "  for i in lista_calc:\n",
        "    calculations[i] = []\n",
        "\n",
        "  # MEAN\n",
        "\n",
        "  # calculate the mean of axis 1\n",
        "  calculations['mean'].append(np.mean(arr_matrix, axis=0).tolist())\n",
        "\n",
        "  # calculate the mean of axis 2\n",
        "  calculations['mean'].append(np.mean(arr_matrix, axis=1, dtype=np.float64).tolist())\n",
        "\n",
        "  # calculate the mean of flattened\n",
        "  calculations['mean'].append(np.mean(arr_matrix))\n",
        "\n",
        "  # VARIANCE\n",
        "\n",
        "  # calculate the variance of axis 1\n",
        "  calculations['variance'].append(np.var(arr_matrix, axis=0).tolist())\n",
        "\n",
        "  # calculate the variance of axis 2\n",
        "  calculations['variance'].append(np.var(arr_matrix, axis=1).tolist())\n",
        "\n",
        "  # calculate the variance of flattened\n",
        "  calculations['variance'].append(np.var(arr_matrix))\n",
        "\n",
        "  # STANDARD DEVIATION\n",
        "\n",
        "  # calculate the standard deviation of axis 1\n",
        "  calculations['standard deviation'].append(np.std(arr_matrix, axis=0).tolist())\n",
        "\n",
        "  # calculate the standard deviation of axis 2\n",
        "  calculations['standard deviation'].append(np.std(arr_matrix, axis=1).tolist())\n",
        "\n",
        "  # calculate the standard deviation of flattened\n",
        "  calculations['standard deviation'].append(np.std(arr_matrix))\n",
        "\n",
        "  # MAX\n",
        "\n",
        "  # calculate the max of axis 1\n",
        "  calculations['max'].append(np.max(arr_matrix, axis=0).tolist())\n",
        "\n",
        "  # calculate the max of axis 2\n",
        "  calculations['max'].append(np.max(arr_matrix, axis=1).tolist())\n",
        "\n",
        "  # calculate the max of flattened\n",
        "  calculations['max'].append(np.max(arr_matrix))\n",
        "\n",
        "  # MIN\n",
        "\n",
        "  # calculate the min of axis 1\n",
        "  calculations['min'].append(np.min(arr_matrix, axis=0).tolist())\n",
        "\n",
        "  # calculate the max of axis 2\n",
        "  calculations['min'].append(np.min(arr_matrix, axis=1).tolist())\n",
        "\n",
        "  # calculate the max of flattened\n",
        "  calculations['min'].append(np.min(arr_matrix))\n",
        "\n",
        "  # SUM\n",
        "\n",
        "  # calculate the sum of axis 1\n",
        "  calculations['sum'].append(np.sum(arr_matrix, axis=0).tolist())\n",
        "\n",
        "  # calculate the sum of axis 2\n",
        "  calculations['sum'].append(np.sum(arr_matrix, axis=1).tolist())\n",
        "\n",
        "  # calculate the sum of flattened\n",
        "  calculations['sum'].append(np.sum(arr_matrix))\n",
        "\n",
        "  return calculations"
      ],
      "metadata": {
        "id": "yNrYeDX5td7I"
      },
      "execution_count": 2,
      "outputs": []
    },
    {
      "cell_type": "code",
      "source": [
        "calculate([0, 1, 2, 3, 4, 5, 6, 7, 8])"
      ],
      "metadata": {
        "colab": {
          "base_uri": "https://localhost:8080/"
        },
        "id": "5bYT3hM6uOnX",
        "outputId": "59a8bf05-ef38-4156-b307-8dd0f6166f2a"
      },
      "execution_count": 3,
      "outputs": [
        {
          "output_type": "execute_result",
          "data": {
            "text/plain": [
              "{'mean': [[3.0, 4.0, 5.0], [1.0, 4.0, 7.0], 4.0],\n",
              " 'variance': [[6.0, 6.0, 6.0],\n",
              "  [0.6666666666666666, 0.6666666666666666, 0.6666666666666666],\n",
              "  6.666666666666667],\n",
              " 'standard deviation': [[2.449489742783178,\n",
              "   2.449489742783178,\n",
              "   2.449489742783178],\n",
              "  [0.816496580927726, 0.816496580927726, 0.816496580927726],\n",
              "  2.581988897471611],\n",
              " 'max': [[6, 7, 8], [2, 5, 8], 8],\n",
              " 'min': [[0, 1, 2], [0, 3, 6], 0],\n",
              " 'sum': [[9, 12, 15], [3, 12, 21], 36]}"
            ]
          },
          "metadata": {},
          "execution_count": 3
        }
      ]
    },
    {
      "cell_type": "code",
      "source": [],
      "metadata": {
        "id": "L3er-jCYuWDW"
      },
      "execution_count": null,
      "outputs": []
    }
  ]
}